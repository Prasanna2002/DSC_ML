{
 "cells": [
  {
   "cell_type": "code",
   "execution_count": 78,
   "metadata": {},
   "outputs": [
    {
     "name": "stdout",
     "output_type": "stream",
     "text": [
      "[1 2 3 4 5]\n",
      "5\n",
      "(5,)\n",
      "1\n",
      "int32\n",
      "\n",
      "[[ 1  2  3  4  5]\n",
      " [ 6  7  8  9 10]]\n",
      "10\n",
      "(2, 5)\n",
      "2\n",
      "int32\n"
     ]
    }
   ],
   "source": [
    "import numpy as np\n",
    "a=np.array([1,2,3,4,5],)\n",
    "b=np.array([[1,2,3,4,5],[6,7,8,9,10]])\n",
    "print(a);print(a.size);print(a.shape);print(a.ndim);print(a.dtype)\n",
    "print()\n",
    "print(b);print(b.size);print(b.shape);print(b.ndim);print(b.dtype)\n",
    "\n"
   ]
  },
  {
   "cell_type": "code",
   "execution_count": 77,
   "metadata": {},
   "outputs": [
    {
     "name": "stdout",
     "output_type": "stream",
     "text": [
      "[[1. 1. 1. 1. 1.]\n",
      " [1. 1. 1. 1. 1.]\n",
      " [1. 1. 1. 1. 1.]\n",
      " [1. 1. 1. 1. 1.]\n",
      " [1. 1. 1. 1. 1.]]\n",
      "\n",
      "[[[0. 0. 0. 0. 0.]\n",
      "  [0. 0. 0. 0. 0.]\n",
      "  [0. 0. 0. 0. 0.]]\n",
      "\n",
      " [[0. 0. 0. 0. 0.]\n",
      "  [0. 0. 0. 0. 0.]\n",
      "  [0. 0. 0. 0. 0.]]\n",
      "\n",
      " [[0. 0. 0. 0. 0.]\n",
      "  [0. 0. 0. 0. 0.]\n",
      "  [0. 0. 0. 0. 0.]]]\n"
     ]
    }
   ],
   "source": [
    "c=np.ones((5,5))\n",
    "d=np.zeros((3, 3, 5))\n",
    "print(c);print()\n",
    "print(d)"
   ]
  },
  {
   "cell_type": "code",
   "execution_count": 90,
   "metadata": {},
   "outputs": [
    {
     "name": "stdout",
     "output_type": "stream",
     "text": [
      "[[5 8]\n",
      " [7 4]\n",
      " [0 6]\n",
      " [4 5]\n",
      " [6 2]\n",
      " [9 2]\n",
      " [4 5]]\n",
      "\n",
      "[[0.01439349 0.11607264 0.04600264 0.0407288  0.85546058]\n",
      " [0.70365786 0.47417383 0.09783416 0.49161588 0.47347177]\n",
      " [0.17320187 0.43385165 0.39850473 0.6158501  0.63509365]]\n",
      "\n",
      "[0.04530401 0.37461261 0.62585992 0.50313626 0.85648984]\n"
     ]
    }
   ],
   "source": [
    "e=np.random.randint(0,10,14).reshape(7,2)\n",
    "f=np.random.random(15).reshape(3,5)\n",
    "g=np.random.rand(5)\n",
    "print(e);print()\n",
    "print(f);print()\n",
    "print(g)"
   ]
  },
  {
   "cell_type": "code",
   "execution_count": 132,
   "metadata": {},
   "outputs": [
    {
     "name": "stdout",
     "output_type": "stream",
     "text": [
      "[[4 1 7 5 1 4]\n",
      " [0 9 5 8 0 9]\n",
      " [2 6 3 8 2 4]\n",
      " [2 6 4 8 6 1]]\n",
      "\n",
      "[[4 1 7 5 1 4]\n",
      " [0 9 5 8 0 9]\n",
      " [2 6 3 8 2 4]\n",
      " [2 6 4 8 6 1]]\n",
      "\n",
      "[4 1 7 5 1 4]\n",
      "\n",
      "[[4 1 7 5 1 4]\n",
      " [0 9 5 8 0 9]]\n",
      "\n",
      "[[4 1]\n",
      " [0 9]]\n"
     ]
    }
   ],
   "source": [
    "s=np.random.randint(0,10,24).reshape(4,6)\n",
    "print(s);print()\n",
    "t=s.copy()\n",
    "print(t);print()\n",
    "print(t[0]);print()\n",
    "print(t[0:2]);print()\n",
    "print(t[0:2,0:2])"
   ]
  },
  {
   "cell_type": "code",
   "execution_count": 130,
   "metadata": {},
   "outputs": [
    {
     "name": "stdout",
     "output_type": "stream",
     "text": [
      "[[6 3 7 4 6]\n",
      " [9 2 6 7 4]\n",
      " [3 7 7 2 5]]\n",
      "\n",
      "[[1 1 1 1 1]\n",
      " [1 1 1 1 1]\n",
      " [1 1 1 1 1]]\n",
      "\n",
      "[[ 7  4  8  5  7]\n",
      " [10  3  7  8  5]\n",
      " [ 4  8  8  3  6]]\n"
     ]
    }
   ],
   "source": [
    "np.random.seed(42)\n",
    "arr1=np.random.randint(0,10,15).reshape(3,5)\n",
    "arr2=np.ones((3,5),dtype='int8')\n",
    "print(arr1);print()\n",
    "print(arr2);print()\n",
    "arr3=arr1+arr2\n",
    "print(arr3)"
   ]
  },
  {
   "cell_type": "code",
   "execution_count": 139,
   "metadata": {},
   "outputs": [
    {
     "name": "stdout",
     "output_type": "stream",
     "text": [
      "[[ 8 11  5]\n",
      " [ 5  4  9]\n",
      " [ 9  8  9]\n",
      " [ 6  9  4]\n",
      " [ 8  6  7]]\n",
      "\n",
      "[[ 64 121  25]\n",
      " [ 25  16  81]\n",
      " [ 81  64  81]\n",
      " [ 36  81  16]\n",
      " [ 64  36  49]]\n",
      "\n",
      "[[ 64 121  25]\n",
      " [ 25  16  81]\n",
      " [ 81  64  81]\n",
      " [ 36  81  16]\n",
      " [ 64  36  49]]\n",
      "\n",
      "7.2 4 11 2.039607805437114 2.039607805437114\n"
     ]
    }
   ],
   "source": [
    "arr4=np.ones((5,3),dtype='int8')\n",
    "arr5=arr4+arr3.transpose()\n",
    "print(arr5);print()\n",
    "print(arr5**2);print()\n",
    "print(np.square(arr5));print()\n",
    "b1=np.sum(np.square(arr5-arr5.mean()))/arr5.size\n",
    "print(arr5.mean(),arr5.min(),arr5.max(),arr5.std(),b1)"
   ]
  },
  {
   "cell_type": "code",
   "execution_count": 153,
   "metadata": {},
   "outputs": [
    {
     "name": "stdout",
     "output_type": "stream",
     "text": [
      "[[0 7 3]\n",
      " [5 7 3]\n",
      " [2 8 2]]\n",
      "\n",
      "[[8 1]\n",
      " [1 1]\n",
      " [5 2]]\n",
      "\n",
      "[[22 13]\n",
      " [62 18]\n",
      " [34 14]]\n",
      "[[22 13]\n",
      " [62 18]\n",
      " [34 14]]\n"
     ]
    }
   ],
   "source": [
    "arr5=np.random.randint(0,10,9).reshape(3,3)\n",
    "arr6=np.random.randint(0,10,6).reshape(3,2)\n",
    "print(arr5);print();print(arr6)\n",
    "print()\n",
    "print(np.dot(arr5,arr6))"
   ]
  },
  {
   "cell_type": "code",
   "execution_count": 157,
   "metadata": {},
   "outputs": [
    {
     "name": "stdout",
     "output_type": "stream",
     "text": [
      "[[1 8 7]\n",
      " [9 6 8]\n",
      " [3 3 0]\n",
      " [7 2 6]]\n",
      "[[1 1 6]\n",
      " [5 2 8]\n",
      " [9 5 9]\n",
      " [9 5 0]]\n",
      "[[ 1  8 42]\n",
      " [45 12 64]\n",
      " [27 15  0]\n",
      " [63 10  0]]\n",
      "\n",
      "[[ 80 128 113  45]\n",
      " [ 93 129 148  75]\n",
      " [  9  27  45  30]\n",
      " [ 65  77  90  45]]\n",
      "\n",
      "[[ 51  77 112  49]\n",
      " [ 63 121 183 111]\n",
      " [  6  21  42  42]\n",
      " [ 45  87 127  73]]\n"
     ]
    }
   ],
   "source": [
    "arr7=np.random.randint(0,10,12).reshape(4,3)\n",
    "arr8=np.random.randint(0,10,12).reshape(4,3)\n",
    "print(np.multiply(arr7,arr8));print()\n",
    "print(np.dot(arr7,arr8.reshape(3,4)));print()\n",
    "print(np.dot(arr7,arr8.transpose()))"
   ]
  },
  {
   "cell_type": "code",
   "execution_count": 222,
   "metadata": {},
   "outputs": [
    {
     "name": "stdout",
     "output_type": "stream",
     "text": [
      "[[0 8 0]\n",
      " [0 6 1]\n",
      " [4 7 7]]\n",
      "\n",
      "[[2 6 2]\n",
      " [5 5 2]\n",
      " [6 2 7]]\n",
      "\n",
      "[[2 6 2]\n",
      " [5 5 2]\n",
      " [6 2 7]]\n",
      "[[False  True False]\n",
      " [False  True False]\n",
      " [False  True False]]\n",
      "\n",
      "[[ True False  True]\n",
      " [ True False  True]\n",
      " [ True False  True]]\n",
      "\n",
      "[[False  True False]\n",
      " [False  True False]\n",
      " [False  True  True]]\n",
      "\n",
      "[[2 2 6]\n",
      " [2 5 5]\n",
      " [2 6 7]]\n",
      "\n",
      "1\n"
     ]
    }
   ],
   "source": [
    "arr9=np.random.randint(0,10,9).reshape(3,3)\n",
    "arr10=np.random.randint(0,10,9).reshape(3,3)\n",
    "print(arr9);print()\n",
    "print(arr10);print()\n",
    "print(arr10)\n",
    "print(arr9>arr10);print()\n",
    "print(arr9<=arr10);print()\n",
    "print(arr9>=arr10);print()\n",
    "arr10.sort()\n",
    "print(arr10);print()\n",
    "print(arr9.argmax())"
   ]
  },
  {
   "cell_type": "code",
   "execution_count": 274,
   "metadata": {},
   "outputs": [
    {
     "name": "stdout",
     "output_type": "stream",
     "text": [
      "BINGO\n"
     ]
    }
   ],
   "source": [
    "\n",
    "x=np.random.randint(1,100,20)\n",
    "if len(x[x%2==0])==10:\n",
    "   print(y)\n",
    "\n"
   ]
  },
  {
   "cell_type": "code",
   "execution_count": 259,
   "metadata": {},
   "outputs": [
    {
     "name": "stdout",
     "output_type": "stream",
     "text": [
      "[64 60 76 58 22 42 92 60 80 62 62 62]\n"
     ]
    }
   ],
   "source": [
    "print(y)"
   ]
  },
  {
   "cell_type": "code",
   "execution_count": null,
   "metadata": {},
   "outputs": [],
   "source": []
  }
 ],
 "metadata": {
  "kernelspec": {
   "display_name": "Python 3",
   "language": "python",
   "name": "python3"
  },
  "language_info": {
   "codemirror_mode": {
    "name": "ipython",
    "version": 3
   },
   "file_extension": ".py",
   "mimetype": "text/x-python",
   "name": "python",
   "nbconvert_exporter": "python",
   "pygments_lexer": "ipython3",
   "version": "3.8.3"
  }
 },
 "nbformat": 4,
 "nbformat_minor": 4
}
