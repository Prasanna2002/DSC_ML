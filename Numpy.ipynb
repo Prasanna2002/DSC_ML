{
 "cells": [
  {
   "cell_type": "code",
   "execution_count": 1,
   "metadata": {},
   "outputs": [
    {
     "name": "stdout",
     "output_type": "stream",
     "text": [
      "[1 2 3 4 5]\n",
      "5\n",
      "(5,)\n",
      "1\n",
      "int32\n",
      "\n",
      "[[ 1  2  3  4  5]\n",
      " [ 6  7  8  9 10]]\n",
      "10\n",
      "(2, 5)\n",
      "2\n",
      "int32\n"
     ]
    }
   ],
   "source": [
    "# Import NumPy as its abbreviation 'np'\n",
    "import numpy as np\n",
    "# Create a 1-dimensional NumPy array using np.array()\n",
    "a=np.array([1,2,3,4,5])\n",
    "# Create a 2-dimensional NumPy array using np.array()\n",
    "b=np.array([[1,2,3,4,5],[6,7,8,9,10]])\n",
    "# Attributes of 1-dimensional array (shape, number of dimensions, data type, size and type)\n",
    "print(a);print(a.size);print(a.shape);print(a.ndim);print(a.dtype)\n",
    "print()\n",
    "# Attributes of 2-dimensional array\n",
    "print(b);print(b.size);print(b.shape);print(b.ndim);print(b.dtype)\n",
    "\n"
   ]
  },
  {
   "cell_type": "code",
   "execution_count": 2,
   "metadata": {},
   "outputs": [
    {
     "name": "stdout",
     "output_type": "stream",
     "text": [
      "[[1 1 1 1 1]\n",
      " [1 1 1 1 1]\n",
      " [1 1 1 1 1]\n",
      " [1 1 1 1 1]\n",
      " [1 1 1 1 1]]\n",
      "\n",
      "[[[0 0 0 0 0]\n",
      "  [0 0 0 0 0]\n",
      "  [0 0 0 0 0]]\n",
      "\n",
      " [[0 0 0 0 0]\n",
      "  [0 0 0 0 0]\n",
      "  [0 0 0 0 0]]\n",
      "\n",
      " [[0 0 0 0 0]\n",
      "  [0 0 0 0 0]\n",
      "  [0 0 0 0 0]]]\n"
     ]
    }
   ],
   "source": [
    "# Create an array of shape (5, 5) with only ones\n",
    "c=np.ones((5,5),dtype='int8')\n",
    "print(c);print()\n",
    "# Create an array of shape (3, 3, 5) with only zeros\n",
    "d=np.zeros((3, 3, 5),dtype='int8')\n",
    "print(d)"
   ]
  },
  {
   "cell_type": "code",
   "execution_count": 3,
   "metadata": {},
   "outputs": [
    {
     "name": "stdout",
     "output_type": "stream",
     "text": [
      "[[9 3]\n",
      " [9 6]\n",
      " [8 6]\n",
      " [4 6]\n",
      " [1 0]\n",
      " [8 6]\n",
      " [8 6]]\n",
      "\n",
      "[[0.35974436 0.75909705 0.97722559 0.34775441 0.678775  ]\n",
      " [0.95261124 0.102263   0.00673594 0.56754363 0.04615029]\n",
      " [0.24799219 0.75341772 0.90957897 0.19334827 0.69665772]]\n",
      "\n",
      "[0.16343494 0.42821056 0.84131405 0.31606305 0.00217432]\n"
     ]
    }
   ],
   "source": [
    "# Create a random array with numbers between 0 and 10 of size (7, 2)\n",
    "e=np.random.randint(0,10,14).reshape(7,2)\n",
    "print(e);print()\n",
    "# Create a random array of floats between 0 & 1 of shape (3, 5)\n",
    "f=np.random.random(15).reshape(3,5)\n",
    "print(f);print()\n",
    "# Create an array of normally distributed random numbers\n",
    "g=np.random.rand(5)\n",
    "print(g)"
   ]
  },
  {
   "cell_type": "code",
   "execution_count": 4,
   "metadata": {},
   "outputs": [
    {
     "name": "stdout",
     "output_type": "stream",
     "text": [
      "[[5 0 7 4 7 1]\n",
      " [4 7 4 2 1 9]\n",
      " [8 6 0 0 9 4]\n",
      " [6 7 6 4 8 7]]\n",
      "\n",
      "[[5 0 7 4 7 1]\n",
      " [4 7 4 2 1 9]\n",
      " [8 6 0 0 9 4]\n",
      " [6 7 6 4 8 7]]\n",
      "\n",
      "[5 0 7 4 7 1]\n",
      "\n",
      "[[5 0 7 4 7 1]\n",
      " [4 7 4 2 1 9]]\n",
      "\n",
      "[[5 0]\n",
      " [4 7]]\n"
     ]
    }
   ],
   "source": [
    "# Create a random array of numbers between 0 & 10 of size (4, 6)\n",
    "s=np.random.randint(0,10,24).reshape(4,6)\n",
    "print(s);print()\n",
    "# Copy the code from the cell above and run it again\n",
    "t=s.copy()\n",
    "print(t);print()\n",
    "# Find the 0'th index of the latest array you created\n",
    "print(t[0]);print()\n",
    "# Get the first 2 rows of latest array you created\n",
    "print(t[0:2]);print()\n",
    "# Get the first 2 values of the first 2 rows of the latest array\n",
    "print(t[0:2,0:2])"
   ]
  },
  {
   "cell_type": "code",
   "execution_count": 5,
   "metadata": {},
   "outputs": [
    {
     "name": "stdout",
     "output_type": "stream",
     "text": [
      "[[6 3 7 4 6]\n",
      " [9 2 6 7 4]\n",
      " [3 7 7 2 5]]\n",
      "\n",
      "[[1 1 1 1 1]\n",
      " [1 1 1 1 1]\n",
      " [1 1 1 1 1]]\n",
      "\n",
      "[[ 7  4  8  5  7]\n",
      " [10  3  7  8  5]\n",
      " [ 4  8  8  3  6]]\n"
     ]
    }
   ],
   "source": [
    "# Create a random array of numbers between 0 & 10 and an array of ones both of size (3, 5), save them both to variables\n",
    "np.random.seed(42)\n",
    "arr1=np.random.randint(0,10,15).reshape(3,5)\n",
    "arr2=np.ones((3,5),dtype='int8')\n",
    "print(arr1);print()\n",
    "print(arr2);print()\n",
    "# adding both arrays\n",
    "arr3=arr1+arr2\n",
    "print(arr3)"
   ]
  },
  {
   "cell_type": "code",
   "execution_count": 6,
   "metadata": {},
   "outputs": [
    {
     "name": "stdout",
     "output_type": "stream",
     "text": [
      "[[ 7  4  8]\n",
      " [ 5  7 10]\n",
      " [ 3  7  8]\n",
      " [ 5  4  8]\n",
      " [ 8  3  6]]\n",
      "\n",
      "[[ 8 11  5]\n",
      " [ 5  4  9]\n",
      " [ 9  8  9]\n",
      " [ 6  9  4]\n",
      " [ 8  6  7]]\n",
      "\n",
      "[[ 64 121  25]\n",
      " [ 25  16  81]\n",
      " [ 81  64  81]\n",
      " [ 36  81  16]\n",
      " [ 64  36  49]]\n",
      "\n",
      "[[ 64 121  25]\n",
      " [ 25  16  81]\n",
      " [ 81  64  81]\n",
      " [ 36  81  16]\n",
      " [ 64  36  49]]\n",
      "\n",
      "7.2 4 11 2.039607805437114 4.16\n"
     ]
    }
   ],
   "source": [
    "# Create another array of ones of shape (5, 3)\n",
    "arr4=np.ones((5,3),dtype='int8')\n",
    "# Try add the array of ones and the other most recent array together # You can anticipate an error\n",
    "ab_1=arr4+arr1.reshape(5,3)\n",
    "print(ab_1);print()\n",
    "# Do the same operation you just did but this time with a transpose on one array\n",
    "arr5=arr4+arr3.transpose()\n",
    "print(arr5);print()\n",
    "# Take the latest array to the power of 2 using the python way\n",
    "print(arr5**2);print()\n",
    "# Do the same thing with numpy way\n",
    "print(np.square(arr5));print()\n",
    "# Find the mean, min, max, standard deviation, variance of the latest array using np.mean()\n",
    "b1=np.sum(np.square(arr5-arr5.mean()))/arr5.size\n",
    "print(arr5.mean(),arr5.min(),arr5.max(),arr5.std(),b1)"
   ]
  },
  {
   "cell_type": "code",
   "execution_count": 7,
   "metadata": {},
   "outputs": [
    {
     "name": "stdout",
     "output_type": "stream",
     "text": [
      "[[4 1 7]\n",
      " [5 1 4]\n",
      " [0 9 5]]\n",
      "\n",
      "[[8 0]\n",
      " [9 2]\n",
      " [6 3]]\n",
      "\n",
      "[[ 83  23]\n",
      " [ 73  14]\n",
      " [111  33]]\n"
     ]
    }
   ],
   "source": [
    "# Create two arrays of random integers between 0 to 10 one of size (3, 3) the other of size (3, 2)\n",
    "arr5=np.random.randint(0,10,9).reshape(3,3)\n",
    "arr6=np.random.randint(0,10,6).reshape(3,2)\n",
    "print(arr5);print();print(arr6)\n",
    "print()\n",
    "# Perform a dot product on the two newest arrays you created\n",
    "print(np.dot(arr5,arr6))"
   ]
  },
  {
   "cell_type": "code",
   "execution_count": 8,
   "metadata": {},
   "outputs": [
    {
     "name": "stdout",
     "output_type": "stream",
     "text": [
      "[[72 16 36]\n",
      " [ 8  6 12]\n",
      " [48 42  2]\n",
      " [ 0 24  1]]\n",
      "\n",
      "[[ 82  70  96  50]\n",
      " [ 32  34  66  54]\n",
      " [ 80  82 111  75]\n",
      " [ 37  48  78  69]]\n",
      "\n",
      "[[124  46  70  10]\n",
      " [102  26  62  22]\n",
      " [129  41  92  19]\n",
      " [100  23  76  25]]\n"
     ]
    }
   ],
   "source": [
    "# Create two arrays of random integers between 0 to 10 both of size (4, 3)\n",
    "arr7=np.random.randint(0,10,12).reshape(4,3)\n",
    "arr8=np.random.randint(0,10,12).reshape(4,3)\n",
    "# Perform a hadamard product on the two newest arrays you created\n",
    "print(np.multiply(arr7,arr8));print()\n",
    "# Perform a dot product on the two newest arrays you created # Error anticipated\n",
    "print(np.dot(arr7,arr8.reshape(3,4)));print()\n",
    "# Take the latest two arrays, perform a transpose on one of them and then perform a dot product on them both\n",
    "print(np.dot(arr7,arr8.transpose()))"
   ]
  },
  {
   "cell_type": "code",
   "execution_count": 9,
   "metadata": {},
   "outputs": [
    {
     "name": "stdout",
     "output_type": "stream",
     "text": [
      "[[7 3 1]\n",
      " [5 5 9]\n",
      " [3 5 1]]\n",
      "\n",
      "[[9 1 9]\n",
      " [3 7 6]\n",
      " [8 7 4]]\n",
      "\n",
      "[[9 1 9]\n",
      " [3 7 6]\n",
      " [8 7 4]]\n",
      "[[False  True False]\n",
      " [ True False  True]\n",
      " [False False False]]\n",
      "\n",
      "[[ True False  True]\n",
      " [False  True False]\n",
      " [ True  True  True]]\n",
      "\n",
      "[[False  True False]\n",
      " [ True False  True]\n",
      " [False False False]]\n",
      "\n",
      "[[1 9 9]\n",
      " [3 6 7]\n",
      " [4 7 8]]\n",
      "\n",
      "5\n",
      "\n",
      "[[1 6 7]\n",
      " [3 7 8]\n",
      " [4 9 9]]\n",
      "\n",
      "[[1 6 7]\n",
      " [3 7 8]\n",
      " [4 9 9]]\n",
      "\n"
     ]
    }
   ],
   "source": [
    "# Create two arrays of random integers between 0 & 10 of the same shape and save them to variables\n",
    "arr9=np.random.randint(0,10,9).reshape(3,3)\n",
    "arr10=np.random.randint(0,10,9).reshape(3,3)\n",
    "print(arr9);print()\n",
    "print(arr10);print()\n",
    "print(arr10)\n",
    "# Compare the two arrays with '>', '<=' and '==' \n",
    "print(arr9>arr10);print()\n",
    "print(arr9<=arr10);print()\n",
    "print(arr9>=arr10);print()\n",
    "# Sort one of the arrays you just created in ascending order\n",
    "arr10.sort()\n",
    "print(arr10);print()\n",
    "# Find the index with the maximum value in one of the arrays you've created\n",
    "print(arr9.argmax());print()\n",
    "# Sort the indexes of one of the arrays you just created\n",
    "arr10.sort(0)\n",
    "print(arr10);print()\n",
    "arr10.sort(1)\n",
    "print(arr10);print()"
   ]
  },
  {
   "cell_type": "code",
   "execution_count": 10,
   "metadata": {},
   "outputs": [
    {
     "name": "stdout",
     "output_type": "stream",
     "text": [
      "[ 1 11 21 31 41 51 61 71 81 91]\n"
     ]
    }
   ],
   "source": [
    "# Create an array with 10 evenly spaced numbers between 1 and 100\n",
    "x=np.arange(1,100,10)\n",
    "print(x)\n",
    "\n"
   ]
  },
  {
   "cell_type": "code",
   "execution_count": 11,
   "metadata": {},
   "outputs": [
    {
     "name": "stdout",
     "output_type": "stream",
     "text": [
      "[0 1 1]\n",
      "\n",
      "[2 0 2]\n"
     ]
    }
   ],
   "source": [
    "# Find the indexes with the maximum values down the verticial axis\n",
    "print(arr9.argmax(0));print()\n",
    "# Find the indexes with the minimum values across the horizontal axis of one of the arrays you created\n",
    "print(arr9.argmin(1))"
   ]
  }
 ],
 "metadata": {
  "kernelspec": {
   "display_name": "Python 3",
   "language": "python",
   "name": "python3"
  },
  "language_info": {
   "codemirror_mode": {
    "name": "ipython",
    "version": 3
   },
   "file_extension": ".py",
   "mimetype": "text/x-python",
   "name": "python",
   "nbconvert_exporter": "python",
   "pygments_lexer": "ipython3",
   "version": "3.8.3"
  }
 },
 "nbformat": 4,
 "nbformat_minor": 4
}
